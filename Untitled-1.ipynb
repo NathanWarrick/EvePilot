{
 "cells": [
  {
   "cell_type": "code",
   "execution_count": null,
   "metadata": {},
   "outputs": [],
   "source": [
    "import random\n",
    "import requests\n",
    "import base64\n",
    "\n",
    "Client_ID = '_____________'\n",
    "Secret_Key = '_________________'\n",
    "Callback_URL = 'http://localhost/callback'\n",
    "\n",
    "URL = 'https://login.eveonline.com/v2/oauth/authorize/'\n",
    "\n",
    "def random_string():\n",
    "    return ''.join(random.choice('0123456789ABCDEF') for i in range(16))\n",
    "\n",
    "URL = URL + '?response_type=code&redirect_uri=' + Callback_URL +'&client_id=' + Client_ID + '&scope=esi-characters.read_blueprints.v1&state=' + random_string()\n",
    "\n",
    "print(URL)\n"
   ]
  },
  {
   "cell_type": "code",
   "execution_count": null,
   "metadata": {},
   "outputs": [],
   "source": [
    "\n",
    "Code = '________________'\n",
    "string = Client_ID + \":\" + Secret_Key\n",
    "Auth_base64 = string.encode(\"ascii\")\n",
    "Auth_base64 = base64.b64encode(Auth_base64).decode()\n",
    "print(Auth_base64)\n",
    "headers = {\n",
    "    \"Authorization\": 'Basic ' + Auth_base64,\n",
    "    \"Content-Type\": \"application/x-www-form-urlencoded\",\n",
    "    \"Host\": \"login.eveonline.com\",\n",
    "}\n",
    "\n",
    "data = {\n",
    "    'grant_type': 'authorization_code',\n",
    "    'code': Code\n",
    "}\n",
    " \n",
    "response = requests.post(URL, headers=headers, data=data)\n",
    " \n",
    "print(response.status_code)"
   ]
  },
  {
   "cell_type": "code",
   "execution_count": null,
   "metadata": {},
   "outputs": [],
   "source": [
    "response.headers"
   ]
  }
 ],
 "metadata": {
  "kernelspec": {
   "display_name": "Python 3",
   "language": "python",
   "name": "python3"
  },
  "language_info": {
   "codemirror_mode": {
    "name": "ipython",
    "version": 3
   },
   "file_extension": ".py",
   "mimetype": "text/x-python",
   "name": "python",
   "nbconvert_exporter": "python",
   "pygments_lexer": "ipython3",
   "version": "3.10.1"
  },
  "orig_nbformat": 4,
  "vscode": {
   "interpreter": {
    "hash": "23a869f485f770016e34d0b646821068146fc1223f42d88213feb34af8b00711"
   }
  }
 },
 "nbformat": 4,
 "nbformat_minor": 2
}
